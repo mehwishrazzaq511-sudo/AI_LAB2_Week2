{
 "cells": [
  {
   "cell_type": "markdown",
   "id": "6ceffbdc-5223-4b5f-91fe-2ddbaec21fff",
   "metadata": {},
   "source": [
    "# TASK1__Greater Number(with tie)"
   ]
  },
  {
   "cell_type": "code",
   "execution_count": 2,
   "id": "ca77e7ba-0c31-41bb-b28e-34959790782f",
   "metadata": {},
   "outputs": [],
   "source": [
    "# ---Task 1 : Greater Number ---"
   ]
  },
  {
   "cell_type": "code",
   "execution_count": 4,
   "id": "bf4e5fab-1139-48f3-884d-970a44a5f66f",
   "metadata": {},
   "outputs": [],
   "source": [
    "# Input two integers and compare"
   ]
  },
  {
   "cell_type": "code",
   "execution_count": 5,
   "id": "6d7c408a-f65d-4741-96f5-de0580eacc95",
   "metadata": {},
   "outputs": [
    {
     "name": "stdout",
     "output_type": "stream",
     "text": [
      "Enter first number:  2\n",
      "Enter second number:  5\n"
     ]
    },
    {
     "name": "stdout",
     "output_type": "stream",
     "text": [
      "Greater number: 5\n"
     ]
    }
   ],
   "source": [
    "a = int(input(\"Enter first number: \"))\n",
    "b = int(input(\"Enter second number: \"))\n",
    "if a > b:\n",
    "    print(\"Greater number:\", a)\n",
    "elif b > a:\n",
    "    print(\"Greater number:\", b)\n",
    "else:\n",
    "    print(\"Both are equal:\", a)"
   ]
  },
  {
   "cell_type": "markdown",
   "id": "98b36f11-3830-4e6b-ac27-89c1db547ca6",
   "metadata": {},
   "source": [
    "# Task2__Grading System"
   ]
  },
  {
   "cell_type": "code",
   "execution_count": 7,
   "id": "ffa65c10-156d-4d0f-a614-ddfa1fdde512",
   "metadata": {},
   "outputs": [
    {
     "name": "stdout",
     "output_type": "stream",
     "text": [
      "Enter marks (0-100):  40.5\n"
     ]
    },
    {
     "name": "stdout",
     "output_type": "stream",
     "text": [
      "Fail - Needs Improvement\n"
     ]
    }
   ],
   "source": [
    "# ---Task 2 : Grading System\n",
    "# Input marks (0-100) and print grade\n",
    "marks = float(input(\"Enter marks (0-100): \"))\n",
    "if marks < 0 or marks > 100:\n",
    "    print(\"Invalid marks. Please enteer between 0 and 100.\")\n",
    "elif marks >=80:\n",
    "    print(\"Grade A - Excellent\")\n",
    "elif marks >=60:\n",
    "     print(\"Grade B - Good\")\n",
    "elif marks >=50:\n",
    "    print(\"Grade C - Pass\")\n",
    "else:\n",
    "    print(\"Fail - Needs Improvement\")"
   ]
  },
  {
   "cell_type": "code",
   "execution_count": 8,
   "id": "72eda70d-3979-4493-b20b-1ace9718b7d4",
   "metadata": {},
   "outputs": [
    {
     "name": "stdout",
     "output_type": "stream",
     "text": [
      "Enter marks (0-100):  70\n"
     ]
    },
    {
     "name": "stdout",
     "output_type": "stream",
     "text": [
      "Grade B - Good\n"
     ]
    }
   ],
   "source": [
    "# ---Task 2 : Grading System\n",
    "# Input marks (0-100) and print grade\n",
    "marks = int(input(\"Enter marks (0-100): \"))\n",
    "if marks < 0 or marks > 100:\n",
    "    print(\"Invalid marks. Please enteer between 0 and 100.\")\n",
    "elif marks >=80:\n",
    "    print(\"Grade A - Excellent\")\n",
    "elif marks >=60:\n",
    "     print(\"Grade B - Good\")\n",
    "elif marks >=50:\n",
    "    print(\"Grade C - Pass\")\n",
    "else:\n",
    "    print(\"Fail - Needs Improvement\")"
   ]
  },
  {
   "cell_type": "markdown",
   "id": "5d4c073f-0539-4d45-a87b-658391e29c80",
   "metadata": {},
   "source": [
    "# Task3__Even or Odd(single number)"
   ]
  },
  {
   "cell_type": "code",
   "execution_count": 9,
   "id": "3636a46a-2158-44b4-ba75-59262b06fd29",
   "metadata": {},
   "outputs": [
    {
     "name": "stdout",
     "output_type": "stream",
     "text": [
      "Enter a number:  4\n"
     ]
    },
    {
     "name": "stdout",
     "output_type": "stream",
     "text": [
      "4 is Even\n"
     ]
    }
   ],
   "source": [
    "# ---Task 3 : Even or Odd---\n",
    "n = int(input(\"Enter a number: \"))\n",
    "if n % 2 ==0:\n",
    "    print(n, \"is Even\")\n",
    "else:\n",
    "    print(n, \"is Odd\")"
   ]
  },
  {
   "cell_type": "code",
   "execution_count": 10,
   "id": "b191d9b8-a27a-482f-b700-5b9431e50b9a",
   "metadata": {},
   "outputs": [
    {
     "name": "stdout",
     "output_type": "stream",
     "text": [
      "Enter a number:  7\n"
     ]
    },
    {
     "name": "stdout",
     "output_type": "stream",
     "text": [
      "7 is Odd\n"
     ]
    }
   ],
   "source": [
    "# ---Task 3 : Even or Odd---\n",
    "n = int(input(\"Enter a number: \"))\n",
    "if n % 2 ==0:\n",
    "    print(n, \"is Even\")\n",
    "else:\n",
    "    print(n, \"is Odd\")"
   ]
  },
  {
   "cell_type": "code",
   "execution_count": 12,
   "id": "c488512d-a280-4c3f-94cd-8db0ec28f809",
   "metadata": {},
   "outputs": [
    {
     "name": "stdout",
     "output_type": "stream",
     "text": [
      "Enter a number:  6.7\n"
     ]
    },
    {
     "name": "stdout",
     "output_type": "stream",
     "text": [
      "6.7 is Odd\n"
     ]
    }
   ],
   "source": [
    "# ---Task 3 : Even or Odd---\n",
    "n = float(input(\"Enter a number: \"))\n",
    "if n % 2 ==0:\n",
    "    print(n, \"is Even\")\n",
    "else:\n",
    "    print(n, \"is Odd\")"
   ]
  },
  {
   "cell_type": "markdown",
   "id": "af93042b-cd60-482c-9fa2-8b4583869b46",
   "metadata": {},
   "source": [
    "# Task4__Simple Login(3 attempts)"
   ]
  },
  {
   "cell_type": "code",
   "execution_count": 13,
   "id": "c118ad50-527f-492c-b78e-ac931c37920c",
   "metadata": {},
   "outputs": [
    {
     "name": "stdout",
     "output_type": "stream",
     "text": [
      "Username:  admin\n",
      "Password:  1234\n"
     ]
    },
    {
     "name": "stdout",
     "output_type": "stream",
     "text": [
      "Login Successfully\n"
     ]
    }
   ],
   "source": [
    "# ---Task 4 : Simple Login(3 attempts)---\n",
    "# Hard-coded demo credentials\n",
    "CORRECT_USER = \"admin\"\n",
    "CORRECT_PASS = \"1234\"\n",
    "attempts = 3\n",
    "while attempts > 0:\n",
    "    u = input(\"Username: \")\n",
    "    p = input(\"Password: \")\n",
    "    if u == CORRECT_USER and p == CORRECT_PASS:\n",
    "        print(\"Login Successfully\")\n",
    "        break\n",
    "    else:\n",
    "        attempts -=1\n",
    "        print(\"Invalid credentials. Attempts left:\", attempts)\n",
    "if attempts == 0:\n",
    "    print(\"Account locked (demo). Please try later.\")\n",
    "            "
   ]
  },
  {
   "cell_type": "code",
   "execution_count": null,
   "id": "de510944-1749-491f-a33f-e25b4b224e06",
   "metadata": {},
   "outputs": [],
   "source": [
    "# --- Task 4: Simple Login (3 attempts) with PIN ---\n",
    "\n",
    "# Hard-coded demo credentials\n",
    "CORRECT_USER = \"admin\"\n",
    "CORRECT_PASS = \"1234\"\n",
    "SECRET_PIN   = \"mishi malik\"   # extra security step\n",
    "\n",
    "attempts = 3\n",
    "\n",
    "while attempts > 0:\n",
    "    u = input(\"Username: \")\n",
    "    p = input(\"Password: \")\n",
    "\n",
    "    if u == CORRECT_USER and p == CORRECT_PASS:\n",
    "        print(\"Login Successful \")\n",
    "\n",
    "        # Second step: ask for PIN\n",
    "        pin = input(\"Enter your secret PIN: \")\n",
    "        if pin == SECRET_PIN:\n",
    "            print(\"Access Granted \")\n",
    "        else:\n",
    "            print(\"Wrong PIN  Access Denied.\")\n",
    "        break\n",
    "\n",
    "    else:\n",
    "        attempts -= 1\n",
    "        print(\"Invalid credentials. Attempts left:\", attempts)\n",
    "\n",
    "if attempts == 0:\n",
    "    print(\"Account locked (demo). Please try later.\")"
   ]
  },
  {
   "cell_type": "markdown",
   "id": "ffcf03c0-aff7-4b35-bcd0-a97b76c229c5",
   "metadata": {},
   "source": [
    "# Task5__Multiplication Table(1 to 10)"
   ]
  },
  {
   "cell_type": "code",
   "execution_count": 14,
   "id": "99d13da4-eb70-4bf9-89c5-7fde439e5b9c",
   "metadata": {},
   "outputs": [
    {
     "name": "stdout",
     "output_type": "stream",
     "text": [
      "Enter a number for table:  5\n"
     ]
    },
    {
     "name": "stdout",
     "output_type": "stream",
     "text": [
      "5 x 1 = 5\n",
      "5 x 2 = 10\n",
      "5 x 3 = 15\n",
      "5 x 4 = 20\n",
      "5 x 5 = 25\n",
      "5 x 6 = 30\n",
      "5 x 7 = 35\n",
      "5 x 8 = 40\n",
      "5 x 9 = 45\n",
      "5 x 10 = 50\n"
     ]
    }
   ],
   "source": [
    "# ---Task 5 : Multiplication Table(1 to 10)---\n",
    "num = int(input(\"Enter a number for table: \"))\n",
    "for i in range(1,11):\n",
    "    print(f\"{num} x {i} = {num * i}\")"
   ]
  },
  {
   "cell_type": "markdown",
   "id": "8f0dab89-f432-4090-a954-ae91920b57d4",
   "metadata": {},
   "source": [
    "# Task6__Number Guessing Game (hints)"
   ]
  },
  {
   "cell_type": "code",
   "execution_count": null,
   "id": "569185cb-7ce3-4051-8ab5-688b35c73e83",
   "metadata": {},
   "outputs": [
    {
     "name": "stdout",
     "output_type": "stream",
     "text": [
      "I'm thinking of a number between 1 and 20...\n"
     ]
    },
    {
     "name": "stdout",
     "output_type": "stream",
     "text": [
      "Your guess:  15\n"
     ]
    },
    {
     "name": "stdout",
     "output_type": "stream",
     "text": [
      "Too high, try again.\n"
     ]
    },
    {
     "name": "stdout",
     "output_type": "stream",
     "text": [
      "Your guess:  1\n"
     ]
    },
    {
     "name": "stdout",
     "output_type": "stream",
     "text": [
      "Too low, try again.\n"
     ]
    },
    {
     "name": "stdout",
     "output_type": "stream",
     "text": [
      "Your guess:  1\n"
     ]
    },
    {
     "name": "stdout",
     "output_type": "stream",
     "text": [
      "Too low, try again.\n"
     ]
    },
    {
     "name": "stdout",
     "output_type": "stream",
     "text": [
      "Your guess:  20\n"
     ]
    },
    {
     "name": "stdout",
     "output_type": "stream",
     "text": [
      "Too high, try again.\n"
     ]
    }
   ],
   "source": [
    "# ---Task 6 : Number Guessing Game---\n",
    "import random\n",
    "\n",
    "secret = random.randint(1, 20)  # secret number in [1,20]\n",
    "print(\"I'm thinking of a number between 1 and 20...\")\n",
    "\n",
    "while True:\n",
    "    guess = int(input(\"Your guess: \"))\n",
    "    if guess == secret:\n",
    "        print(\"Correct! You guessed it.\")\n",
    "        break\n",
    "    elif guess < secret:\n",
    "        print(\"Too low, try again.\")\n",
    "    else:\n",
    "        print(\"Too high, try again.\")\n"
   ]
  },
  {
   "cell_type": "code",
   "execution_count": null,
   "id": "d57fab24-8bfd-425c-8f2c-068a483c6bf0",
   "metadata": {},
   "outputs": [],
   "source": []
  }
 ],
 "metadata": {
  "kernelspec": {
   "display_name": "Python 3 (ipykernel)",
   "language": "python",
   "name": "python3"
  },
  "language_info": {
   "codemirror_mode": {
    "name": "ipython",
    "version": 3
   },
   "file_extension": ".py",
   "mimetype": "text/x-python",
   "name": "python",
   "nbconvert_exporter": "python",
   "pygments_lexer": "ipython3",
   "version": "3.13.5"
  }
 },
 "nbformat": 4,
 "nbformat_minor": 5
}
